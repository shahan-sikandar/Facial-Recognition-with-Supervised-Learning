{
 "cells": [
  {
   "cell_type": "markdown",
   "id": "da23960a",
   "metadata": {
    "papermill": {
     "duration": 0.004186,
     "end_time": "2025-09-01T08:26:16.573701",
     "exception": false,
     "start_time": "2025-09-01T08:26:16.569515",
     "status": "completed"
    },
    "tags": []
   },
   "source": [
    "In this notebook, we tackle a fun yet powerful challenge: **teaching a machine to recognize Arnold Schwarzenegger** among a dataset of faces. 💪  \n",
    "\n",
    "By building a complete **machine learning pipeline** with **Python + scikit-learn**"
   ]
  },
  {
   "cell_type": "code",
   "execution_count": 1,
   "id": "476f4e41",
   "metadata": {
    "_cell_guid": "b1076dfc-b9ad-4769-8c92-a6c4dae69d19",
    "_uuid": "8f2839f25d086af736a60e9eeb907d3b93b6e0e5",
    "execution": {
     "iopub.execute_input": "2025-09-01T08:26:16.582906Z",
     "iopub.status.busy": "2025-09-01T08:26:16.582594Z",
     "iopub.status.idle": "2025-09-01T08:26:20.211680Z",
     "shell.execute_reply": "2025-09-01T08:26:20.210737Z"
    },
    "papermill": {
     "duration": 3.635724,
     "end_time": "2025-09-01T08:26:20.213702",
     "exception": false,
     "start_time": "2025-09-01T08:26:16.577978",
     "status": "completed"
    },
    "tags": []
   },
   "outputs": [],
   "source": [
    "# Import required libraries\n",
    "import pandas as pd\n",
    "import seaborn as sns\n",
    "import matplotlib.pyplot as plt\n",
    "from sklearn.pipeline import Pipeline\n",
    "from sklearn.preprocessing import StandardScaler\n",
    "from sklearn.model_selection import GridSearchCV, KFold, train_test_split\n",
    "from sklearn.metrics import accuracy_score, precision_score, recall_score, f1_score, confusion_matrix"
   ]
  },
  {
   "cell_type": "code",
   "execution_count": 2,
   "id": "dcf5a061",
   "metadata": {
    "execution": {
     "iopub.execute_input": "2025-09-01T08:26:20.221958Z",
     "iopub.status.busy": "2025-09-01T08:26:20.221530Z",
     "iopub.status.idle": "2025-09-01T08:26:20.286743Z",
     "shell.execute_reply": "2025-09-01T08:26:20.285761Z"
    },
    "papermill": {
     "duration": 0.07093,
     "end_time": "2025-09-01T08:26:20.288259",
     "exception": false,
     "start_time": "2025-09-01T08:26:20.217329",
     "status": "completed"
    },
    "tags": []
   },
   "outputs": [
    {
     "data": {
      "text/html": [
       "<div>\n",
       "<style scoped>\n",
       "    .dataframe tbody tr th:only-of-type {\n",
       "        vertical-align: middle;\n",
       "    }\n",
       "\n",
       "    .dataframe tbody tr th {\n",
       "        vertical-align: top;\n",
       "    }\n",
       "\n",
       "    .dataframe thead th {\n",
       "        text-align: right;\n",
       "    }\n",
       "</style>\n",
       "<table border=\"1\" class=\"dataframe\">\n",
       "  <thead>\n",
       "    <tr style=\"text-align: right;\">\n",
       "      <th></th>\n",
       "      <th>0</th>\n",
       "      <th>1</th>\n",
       "      <th>2</th>\n",
       "      <th>3</th>\n",
       "      <th>4</th>\n",
       "      <th>5</th>\n",
       "      <th>6</th>\n",
       "      <th>7</th>\n",
       "      <th>8</th>\n",
       "      <th>9</th>\n",
       "      <th>...</th>\n",
       "      <th>141</th>\n",
       "      <th>142</th>\n",
       "      <th>143</th>\n",
       "      <th>144</th>\n",
       "      <th>145</th>\n",
       "      <th>146</th>\n",
       "      <th>147</th>\n",
       "      <th>148</th>\n",
       "      <th>149</th>\n",
       "      <th>Label</th>\n",
       "    </tr>\n",
       "  </thead>\n",
       "  <tbody>\n",
       "    <tr>\n",
       "      <th>0</th>\n",
       "      <td>-2.061987</td>\n",
       "      <td>0.581320</td>\n",
       "      <td>-0.249115</td>\n",
       "      <td>-0.631340</td>\n",
       "      <td>-1.359899</td>\n",
       "      <td>0.751619</td>\n",
       "      <td>-0.029364</td>\n",
       "      <td>1.610456</td>\n",
       "      <td>0.341402</td>\n",
       "      <td>1.286709</td>\n",
       "      <td>...</td>\n",
       "      <td>-0.356844</td>\n",
       "      <td>-0.016488</td>\n",
       "      <td>-0.228473</td>\n",
       "      <td>0.258134</td>\n",
       "      <td>0.046834</td>\n",
       "      <td>0.135742</td>\n",
       "      <td>-0.068297</td>\n",
       "      <td>0.022038</td>\n",
       "      <td>0.090003</td>\n",
       "      <td>1</td>\n",
       "    </tr>\n",
       "    <tr>\n",
       "      <th>1</th>\n",
       "      <td>-0.796838</td>\n",
       "      <td>-0.667228</td>\n",
       "      <td>-0.107889</td>\n",
       "      <td>0.019755</td>\n",
       "      <td>-0.686348</td>\n",
       "      <td>0.912779</td>\n",
       "      <td>0.463412</td>\n",
       "      <td>-0.238308</td>\n",
       "      <td>-0.294023</td>\n",
       "      <td>0.215470</td>\n",
       "      <td>...</td>\n",
       "      <td>-0.037243</td>\n",
       "      <td>-0.012105</td>\n",
       "      <td>-0.351285</td>\n",
       "      <td>-0.034968</td>\n",
       "      <td>0.192314</td>\n",
       "      <td>-0.015406</td>\n",
       "      <td>-0.089117</td>\n",
       "      <td>0.023588</td>\n",
       "      <td>-0.019998</td>\n",
       "      <td>1</td>\n",
       "    </tr>\n",
       "    <tr>\n",
       "      <th>2</th>\n",
       "      <td>5.376779</td>\n",
       "      <td>1.142695</td>\n",
       "      <td>2.543111</td>\n",
       "      <td>-2.727212</td>\n",
       "      <td>0.272785</td>\n",
       "      <td>-0.972187</td>\n",
       "      <td>1.111221</td>\n",
       "      <td>1.645502</td>\n",
       "      <td>-2.556968</td>\n",
       "      <td>-0.648781</td>\n",
       "      <td>...</td>\n",
       "      <td>0.157441</td>\n",
       "      <td>-0.333875</td>\n",
       "      <td>-0.303720</td>\n",
       "      <td>-0.085975</td>\n",
       "      <td>0.171346</td>\n",
       "      <td>0.128577</td>\n",
       "      <td>-0.118262</td>\n",
       "      <td>0.045881</td>\n",
       "      <td>-0.190158</td>\n",
       "      <td>1</td>\n",
       "    </tr>\n",
       "    <tr>\n",
       "      <th>3</th>\n",
       "      <td>7.029235</td>\n",
       "      <td>1.242883</td>\n",
       "      <td>-2.628079</td>\n",
       "      <td>1.224479</td>\n",
       "      <td>-1.141370</td>\n",
       "      <td>-1.620647</td>\n",
       "      <td>0.205890</td>\n",
       "      <td>1.567561</td>\n",
       "      <td>0.736200</td>\n",
       "      <td>0.010782</td>\n",
       "      <td>...</td>\n",
       "      <td>0.051040</td>\n",
       "      <td>-0.068796</td>\n",
       "      <td>0.141841</td>\n",
       "      <td>-0.227999</td>\n",
       "      <td>0.046044</td>\n",
       "      <td>0.013643</td>\n",
       "      <td>-0.125893</td>\n",
       "      <td>0.146396</td>\n",
       "      <td>0.013320</td>\n",
       "      <td>1</td>\n",
       "    </tr>\n",
       "    <tr>\n",
       "      <th>4</th>\n",
       "      <td>5.484822</td>\n",
       "      <td>6.752706</td>\n",
       "      <td>-4.291114</td>\n",
       "      <td>1.740412</td>\n",
       "      <td>-1.603087</td>\n",
       "      <td>-1.075175</td>\n",
       "      <td>1.919936</td>\n",
       "      <td>-0.197615</td>\n",
       "      <td>1.030596</td>\n",
       "      <td>1.451936</td>\n",
       "      <td>...</td>\n",
       "      <td>0.034412</td>\n",
       "      <td>0.265141</td>\n",
       "      <td>0.226000</td>\n",
       "      <td>0.032064</td>\n",
       "      <td>-0.113654</td>\n",
       "      <td>0.059126</td>\n",
       "      <td>-0.216803</td>\n",
       "      <td>0.025849</td>\n",
       "      <td>0.020456</td>\n",
       "      <td>1</td>\n",
       "    </tr>\n",
       "  </tbody>\n",
       "</table>\n",
       "<p>5 rows × 151 columns</p>\n",
       "</div>"
      ],
      "text/plain": [
       "          0         1         2         3         4         5         6  \\\n",
       "0 -2.061987  0.581320 -0.249115 -0.631340 -1.359899  0.751619 -0.029364   \n",
       "1 -0.796838 -0.667228 -0.107889  0.019755 -0.686348  0.912779  0.463412   \n",
       "2  5.376779  1.142695  2.543111 -2.727212  0.272785 -0.972187  1.111221   \n",
       "3  7.029235  1.242883 -2.628079  1.224479 -1.141370 -1.620647  0.205890   \n",
       "4  5.484822  6.752706 -4.291114  1.740412 -1.603087 -1.075175  1.919936   \n",
       "\n",
       "          7         8         9  ...       141       142       143       144  \\\n",
       "0  1.610456  0.341402  1.286709  ... -0.356844 -0.016488 -0.228473  0.258134   \n",
       "1 -0.238308 -0.294023  0.215470  ... -0.037243 -0.012105 -0.351285 -0.034968   \n",
       "2  1.645502 -2.556968 -0.648781  ...  0.157441 -0.333875 -0.303720 -0.085975   \n",
       "3  1.567561  0.736200  0.010782  ...  0.051040 -0.068796  0.141841 -0.227999   \n",
       "4 -0.197615  1.030596  1.451936  ...  0.034412  0.265141  0.226000  0.032064   \n",
       "\n",
       "        145       146       147       148       149  Label  \n",
       "0  0.046834  0.135742 -0.068297  0.022038  0.090003      1  \n",
       "1  0.192314 -0.015406 -0.089117  0.023588 -0.019998      1  \n",
       "2  0.171346  0.128577 -0.118262  0.045881 -0.190158      1  \n",
       "3  0.046044  0.013643 -0.125893  0.146396  0.013320      1  \n",
       "4 -0.113654  0.059126 -0.216803  0.025849  0.020456      1  \n",
       "\n",
       "[5 rows x 151 columns]"
      ]
     },
     "execution_count": 2,
     "metadata": {},
     "output_type": "execute_result"
    }
   ],
   "source": [
    "# Read the csv file\n",
    "df = pd.read_csv(\"/kaggle/input/faces-dataset/lfw_arnie_nonarnie.csv\")\n",
    "df.head()"
   ]
  },
  {
   "cell_type": "code",
   "execution_count": 3,
   "id": "770da9a7",
   "metadata": {
    "execution": {
     "iopub.execute_input": "2025-09-01T08:26:20.296649Z",
     "iopub.status.busy": "2025-09-01T08:26:20.296331Z",
     "iopub.status.idle": "2025-09-01T08:26:20.319493Z",
     "shell.execute_reply": "2025-09-01T08:26:20.317979Z"
    },
    "papermill": {
     "duration": 0.028894,
     "end_time": "2025-09-01T08:26:20.320937",
     "exception": false,
     "start_time": "2025-09-01T08:26:20.292043",
     "status": "completed"
    },
    "tags": []
   },
   "outputs": [
    {
     "name": "stdout",
     "output_type": "stream",
     "text": [
      "<class 'pandas.core.frame.DataFrame'>\n",
      "RangeIndex: 190 entries, 0 to 189\n",
      "Columns: 151 entries, 0 to Label\n",
      "dtypes: float64(150), int64(1)\n",
      "memory usage: 224.3 KB\n"
     ]
    }
   ],
   "source": [
    "# Print info\n",
    "df.info()"
   ]
  },
  {
   "cell_type": "code",
   "execution_count": 4,
   "id": "15978014",
   "metadata": {
    "execution": {
     "iopub.execute_input": "2025-09-01T08:26:20.329686Z",
     "iopub.status.busy": "2025-09-01T08:26:20.329398Z",
     "iopub.status.idle": "2025-09-01T08:26:20.338030Z",
     "shell.execute_reply": "2025-09-01T08:26:20.337125Z"
    },
    "papermill": {
     "duration": 0.014557,
     "end_time": "2025-09-01T08:26:20.339353",
     "exception": false,
     "start_time": "2025-09-01T08:26:20.324796",
     "status": "completed"
    },
    "tags": []
   },
   "outputs": [
    {
     "data": {
      "text/plain": [
       "0        False\n",
       "1        False\n",
       "2        False\n",
       "3        False\n",
       "4        False\n",
       "         ...  \n",
       "146      False\n",
       "147      False\n",
       "148      False\n",
       "149      False\n",
       "Label    False\n",
       "Length: 151, dtype: bool"
      ]
     },
     "execution_count": 4,
     "metadata": {},
     "output_type": "execute_result"
    }
   ],
   "source": [
    "# Check missing values\n",
    "df.isna().any()"
   ]
  },
  {
   "cell_type": "code",
   "execution_count": 5,
   "id": "f26a0cde",
   "metadata": {
    "execution": {
     "iopub.execute_input": "2025-09-01T08:26:20.348441Z",
     "iopub.status.busy": "2025-09-01T08:26:20.347719Z",
     "iopub.status.idle": "2025-09-01T08:26:20.354919Z",
     "shell.execute_reply": "2025-09-01T08:26:20.354245Z"
    },
    "papermill": {
     "duration": 0.013028,
     "end_time": "2025-09-01T08:26:20.356193",
     "exception": false,
     "start_time": "2025-09-01T08:26:20.343165",
     "status": "completed"
    },
    "tags": []
   },
   "outputs": [
    {
     "data": {
      "text/plain": [
       "Label\n",
       "0    150\n",
       "1     40\n",
       "Name: count, dtype: int64"
      ]
     },
     "execution_count": 5,
     "metadata": {},
     "output_type": "execute_result"
    }
   ],
   "source": [
    "# Check label count\n",
    "df[\"Label\"].value_counts()"
   ]
  },
  {
   "cell_type": "code",
   "execution_count": 6,
   "id": "cec1fb65",
   "metadata": {
    "execution": {
     "iopub.execute_input": "2025-09-01T08:26:20.365007Z",
     "iopub.status.busy": "2025-09-01T08:26:20.364747Z",
     "iopub.status.idle": "2025-09-01T08:26:20.379737Z",
     "shell.execute_reply": "2025-09-01T08:26:20.378845Z"
    },
    "papermill": {
     "duration": 0.020936,
     "end_time": "2025-09-01T08:26:20.381104",
     "exception": false,
     "start_time": "2025-09-01T08:26:20.360168",
     "status": "completed"
    },
    "tags": []
   },
   "outputs": [],
   "source": [
    "# Seperate the predictor and class label\n",
    "X = df.drop('Label', axis=1)\n",
    "y = df['Label'] \n",
    "\n",
    "# Split the data into training and testing sets using stratify to balance the class\n",
    "X_train, X_test, y_train, y_test = train_test_split(X, y, test_size=0.2, random_state=21, stratify=y)"
   ]
  },
  {
   "cell_type": "code",
   "execution_count": 7,
   "id": "24465257",
   "metadata": {
    "execution": {
     "iopub.execute_input": "2025-09-01T08:26:20.390106Z",
     "iopub.status.busy": "2025-09-01T08:26:20.389780Z",
     "iopub.status.idle": "2025-09-01T08:26:20.661915Z",
     "shell.execute_reply": "2025-09-01T08:26:20.660930Z"
    },
    "papermill": {
     "duration": 0.278575,
     "end_time": "2025-09-01T08:26:20.663579",
     "exception": false,
     "start_time": "2025-09-01T08:26:20.385004",
     "status": "completed"
    },
    "tags": []
   },
   "outputs": [],
   "source": [
    "# Import the models you want to use\n",
    "from sklearn.linear_model import LogisticRegression\n",
    "from sklearn.neighbors import KNeighborsClassifier\n",
    "from sklearn.tree import DecisionTreeClassifier"
   ]
  },
  {
   "cell_type": "code",
   "execution_count": 8,
   "id": "3fdab2f4",
   "metadata": {
    "execution": {
     "iopub.execute_input": "2025-09-01T08:26:20.673290Z",
     "iopub.status.busy": "2025-09-01T08:26:20.672497Z",
     "iopub.status.idle": "2025-09-01T08:26:20.677393Z",
     "shell.execute_reply": "2025-09-01T08:26:20.676472Z"
    },
    "papermill": {
     "duration": 0.011379,
     "end_time": "2025-09-01T08:26:20.679048",
     "exception": false,
     "start_time": "2025-09-01T08:26:20.667669",
     "status": "completed"
    },
    "tags": []
   },
   "outputs": [],
   "source": [
    "# Store initialized models in a dictionary\n",
    "# This approach allows for easy expansion and comparison of different models\n",
    "models = {\"LogisticRegression\": LogisticRegression(), \n",
    "          \"KNeighborsClassifier\": KNeighborsClassifier(),\n",
    "          \"DecisionTreeClassifier\": DecisionTreeClassifier()}"
   ]
  },
  {
   "cell_type": "code",
   "execution_count": 9,
   "id": "c5efe667",
   "metadata": {
    "execution": {
     "iopub.execute_input": "2025-09-01T08:26:20.688311Z",
     "iopub.status.busy": "2025-09-01T08:26:20.687980Z",
     "iopub.status.idle": "2025-09-01T08:26:20.693190Z",
     "shell.execute_reply": "2025-09-01T08:26:20.692309Z"
    },
    "papermill": {
     "duration": 0.011388,
     "end_time": "2025-09-01T08:26:20.694552",
     "exception": false,
     "start_time": "2025-09-01T08:26:20.683164",
     "status": "completed"
    },
    "tags": []
   },
   "outputs": [],
   "source": [
    "# Store the model parameters in a dictionary\n",
    "# Parameters are tailored to each model to explore a range of options during Grid Search\n",
    "param_grid = {\"LogisticRegression\": {\"LogisticRegression__C\": [0.01, 0.1, 1, 10]},\n",
    "              \"KNeighborsClassifier\": {\"KNeighborsClassifier__n_neighbors\": range(1,10)},\n",
    "              \"DecisionTreeClassifier\": {\"DecisionTreeClassifier__max_depth\": [2, 5, 10],\n",
    "           \"DecisionTreeClassifier__min_samples_split\": [2, 5, 10, 20],\n",
    "           \"DecisionTreeClassifier__random_state\": [42]}}"
   ]
  },
  {
   "cell_type": "code",
   "execution_count": 10,
   "id": "1b19c47f",
   "metadata": {
    "execution": {
     "iopub.execute_input": "2025-09-01T08:26:20.704845Z",
     "iopub.status.busy": "2025-09-01T08:26:20.704495Z",
     "iopub.status.idle": "2025-09-01T08:26:20.709106Z",
     "shell.execute_reply": "2025-09-01T08:26:20.708260Z"
    },
    "papermill": {
     "duration": 0.011116,
     "end_time": "2025-09-01T08:26:20.710638",
     "exception": false,
     "start_time": "2025-09-01T08:26:20.699522",
     "status": "completed"
    },
    "tags": []
   },
   "outputs": [],
   "source": [
    "# Define cross-validation parameters\n",
    "# KFold is used here to ensure that our model generalizes well on unseen data\n",
    "kf = KFold(n_splits=5, random_state=42, shuffle=True)\n",
    "\n",
    "# Prepare to collect Grid Search CV results\n",
    "# Grid Search helps find the best parameter combination for each model\n",
    "pipe_accuracies = {}\n",
    "pipe_params = {}\n",
    "pipelines = {}"
   ]
  },
  {
   "cell_type": "code",
   "execution_count": 11,
   "id": "e769c805",
   "metadata": {
    "execution": {
     "iopub.execute_input": "2025-09-01T08:26:20.720919Z",
     "iopub.status.busy": "2025-09-01T08:26:20.720536Z",
     "iopub.status.idle": "2025-09-01T08:26:24.699636Z",
     "shell.execute_reply": "2025-09-01T08:26:24.698863Z"
    },
    "papermill": {
     "duration": 3.985651,
     "end_time": "2025-09-01T08:26:24.701258",
     "exception": false,
     "start_time": "2025-09-01T08:26:20.715607",
     "status": "completed"
    },
    "tags": []
   },
   "outputs": [],
   "source": [
    "# Create separate pipelines for each model, loop through the models and perform GridSearchCV\n",
    "# Grid Search helps find the best parameter combination for each model\n",
    "# Pipelines integrate preprocessing (e.g., scaling) with the model for cleaner code and to prevent data leakage\n",
    "for name, model in models.items():\n",
    "    pipeline = Pipeline(steps=[\n",
    "        (\"scaler\", StandardScaler()),\n",
    "        (name, model)\n",
    "    ])\n",
    "    # Create the GridSearchCV object\n",
    "    grid_search = GridSearchCV(pipeline, param_grid[name], cv=kf, scoring=\"accuracy\")\n",
    "    \n",
    "    # Perform grid search and fit the model and store the results\n",
    "    grid_search.fit(X_train, y_train)\n",
    "    pipe_accuracies[name] = grid_search.best_score_\n",
    "    pipe_params[name] = grid_search.best_params_\n",
    "    pipelines[name] = grid_search"
   ]
  },
  {
   "cell_type": "code",
   "execution_count": 12,
   "id": "120b1079",
   "metadata": {
    "execution": {
     "iopub.execute_input": "2025-09-01T08:26:24.710654Z",
     "iopub.status.busy": "2025-09-01T08:26:24.709880Z",
     "iopub.status.idle": "2025-09-01T08:26:24.715555Z",
     "shell.execute_reply": "2025-09-01T08:26:24.714591Z"
    },
    "papermill": {
     "duration": 0.011724,
     "end_time": "2025-09-01T08:26:24.716950",
     "exception": false,
     "start_time": "2025-09-01T08:26:24.705226",
     "status": "completed"
    },
    "tags": []
   },
   "outputs": [
    {
     "name": "stdout",
     "output_type": "stream",
     "text": [
      "Best Model: LogisticRegression\n",
      "Best Model Parameters: {'LogisticRegression__C': 1}\n",
      "Best Model CV Score: 0.8288172043010752\n"
     ]
    }
   ],
   "source": [
    "# Select the best model based on the best cross-validation score\n",
    "best_model_name = max(pipe_accuracies)\n",
    "best_model_cv_score = max(pipe_accuracies.values())\n",
    "best_model_info = pipe_params[best_model_name]\n",
    "\n",
    "# Print the best model name, parameters, and CV score\n",
    "print(f\"Best Model: {best_model_name}\")\n",
    "print(f\"Best Model Parameters: {best_model_info}\")\n",
    "print(f\"Best Model CV Score: {best_model_cv_score}\")\n"
   ]
  },
  {
   "cell_type": "code",
   "execution_count": 13,
   "id": "830f981d",
   "metadata": {
    "execution": {
     "iopub.execute_input": "2025-09-01T08:26:24.726030Z",
     "iopub.status.busy": "2025-09-01T08:26:24.725451Z",
     "iopub.status.idle": "2025-09-01T08:26:24.741572Z",
     "shell.execute_reply": "2025-09-01T08:26:24.740584Z"
    },
    "papermill": {
     "duration": 0.022108,
     "end_time": "2025-09-01T08:26:24.743023",
     "exception": false,
     "start_time": "2025-09-01T08:26:24.720915",
     "status": "completed"
    },
    "tags": []
   },
   "outputs": [
    {
     "name": "stdout",
     "output_type": "stream",
     "text": [
      "Accuracy: 0.8158\n",
      "Precision: 1.0000\n",
      "Recall: 0.1250\n",
      "F1 Score: 0.2222\n"
     ]
    }
   ],
   "source": [
    "# Compute and print key performance metrics\n",
    "# These metrics help us understand the model's effectiveness in classification\n",
    "y_pred = pipelines[best_model_name].predict(X_test)\n",
    "accuracy = accuracy_score(y_test, y_pred)\n",
    "precision = precision_score(y_test, y_pred)\n",
    "recall = recall_score(y_test, y_pred)\n",
    "f1 = f1_score(y_test, y_pred)\n",
    "\n",
    "print(f\"Accuracy: {accuracy:.4f}\")\n",
    "print(f\"Precision: {precision:.4f}\")\n",
    "print(f\"Recall: {recall:.4f}\")\n",
    "print(f\"F1 Score: {f1:.4f}\")"
   ]
  },
  {
   "cell_type": "code",
   "execution_count": 14,
   "id": "29c005ce",
   "metadata": {
    "execution": {
     "iopub.execute_input": "2025-09-01T08:26:24.752380Z",
     "iopub.status.busy": "2025-09-01T08:26:24.751838Z",
     "iopub.status.idle": "2025-09-01T08:26:25.031648Z",
     "shell.execute_reply": "2025-09-01T08:26:25.030785Z"
    },
    "papermill": {
     "duration": 0.286133,
     "end_time": "2025-09-01T08:26:25.033264",
     "exception": false,
     "start_time": "2025-09-01T08:26:24.747131",
     "status": "completed"
    },
    "tags": []
   },
   "outputs": [
    {
     "data": {
      "image/png": "[encoded data removed]",
      "text/plain": [
       "<Figure size 640x480 with 2 Axes>"
      ]
     },
     "metadata": {},
     "output_type": "display_data"
    }
   ],
   "source": [
    "# Visualize the confusion matrix using Matplotlib\n",
    "# This helps in understanding how well the model is predicting each class\n",
    "conf_mat = confusion_matrix(y_test, y_pred)\n",
    "plt.imshow(conf_mat, interpolation='nearest', cmap=plt.cm.Blues)\n",
    "plt.title(f'Confusion Matrix for {best_model_name}')\n",
    "plt.colorbar()\n",
    "tick_marks = range(len(set(y_test)))\n",
    "plt.xticks(tick_marks, ['Non-Arnie', 'Arnie'], rotation=45)\n",
    "plt.yticks(tick_marks, ['Non-Arnie', 'Arnie'])\n",
    "plt.xlabel('Predicted Labels')\n",
    "plt.ylabel('True Labels')\n",
    "plt.tight_layout()\n",
    "plt.show()"
   ]
  },
  {
   "cell_type": "code",
   "execution_count": null,
   "id": "89183bb1",
   "metadata": {
    "papermill": {
     "duration": 0.004213,
     "end_time": "2025-09-01T08:26:25.043651",
     "exception": false,
     "start_time": "2025-09-01T08:26:25.039438",
     "status": "completed"
    },
    "tags": []
   },
   "outputs": [],
   "source": []
  },
  {
   "cell_type": "code",
   "execution_count": null,
   "id": "6151efff",
   "metadata": {
    "papermill": {
     "duration": 0.004122,
     "end_time": "2025-09-01T08:26:25.052185",
     "exception": false,
     "start_time": "2025-09-01T08:26:25.048063",
     "status": "completed"
    },
    "tags": []
   },
   "outputs": [],
   "source": []
  }
 ],
 "metadata": {
  "kaggle": {
   "accelerator": "none",
   "dataSources": [
    {
     "datasetId": 8180941,
     "sourceId": 12928560,
     "sourceType": "datasetVersion"
    }
   ],
   "dockerImageVersionId": 31089,
   "isGpuEnabled": false,
   "isInternetEnabled": true,
   "language": "python",
   "sourceType": "notebook"
  },
  "kernelspec": {
   "display_name": "Python 3",
   "language": "python",
   "name": "python3"
  },
  "language_info": {
   "codemirror_mode": {
    "name": "ipython",
    "version": 3
   },
   "file_extension": ".py",
   "mimetype": "text/x-python",
   "name": "python",
   "nbconvert_exporter": "python",
   "pygments_lexer": "ipython3",
   "version": "3.11.13"
  },
  "papermill": {
   "default_parameters": {},
   "duration": 14.22125,
   "end_time": "2025-09-01T08:26:25.776363",
   "environment_variables": {},
   "exception": null,
   "input_path": "__notebook__.ipynb",
   "output_path": "__notebook__.ipynb",
   "parameters": {},
   "start_time": "2025-09-01T08:26:11.555113",
   "version": "2.6.0"
  }
 },
 "nbformat": 4,
 "nbformat_minor": 5
}
